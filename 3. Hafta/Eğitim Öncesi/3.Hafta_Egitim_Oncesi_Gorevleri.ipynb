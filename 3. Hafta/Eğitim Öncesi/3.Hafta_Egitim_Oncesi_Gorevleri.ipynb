{
  "cells": [
    {
      "cell_type": "markdown",
      "metadata": {
        "id": "tsD4YVAe_Te2"
      },
      "source": [
        "# Problem 1\n",
        "Bir sayının 7'ye bölünebilir olup olmadığını kontrol etmek \n",
        "için bir program yazın.\n",
        "\n",
        "İpucu: Mod operatörünü (%) kullanabilirsiniz."
      ]
    },
    {
      "cell_type": "code",
      "execution_count": null,
      "metadata": {
        "id": "NGjvNwKx_Te7"
      },
      "outputs": [],
      "source": [
        "sayi = int(input(\"Bir sayı giriniz : \"))\n",
        "\n",
        "if sayi % 7 == 0:\n",
        "  print(sayi , \" sayısı 7'ye tam bölünür\")\n",
        "\n",
        "else:\n",
        "  print(sayi,  \" sayısı 7'ye tam bölünemez.\")"
      ]
    },
    {
      "cell_type": "markdown",
      "metadata": {
        "id": "Kg3qiBAI_Te8"
      },
      "source": [
        "# Problem 2\n",
        "Kullanıcıdan vize ve final notu isteyin. Girilen vize notunun %40’ı ve \n",
        "girilen finalnotunun ise %60’ı alınarak yıl sonu not ortalaması hesaplanacaktır. \n",
        "\n",
        "Bu not ortalaması eğer 85 ve üzeri ise AA, \n",
        "\n",
        "75 ve 85 arasında ise BA, \n",
        "\n",
        "70 ve 75 arasında ise BB, \n",
        "\n",
        "65 ve 70 arasında ise CB,\n",
        "\n",
        "60 ve 65 arasında ise CC,\n",
        "\n",
        "55 ve 60 arasında ise DC,\n",
        "\n",
        "50 ve 55 arasında ise DD olarak hesaplanacaktır. \n",
        "\n",
        "Bu öğrencinin yıl sonu toplam notu 50’nin altında ise FF ile dersten kalacaktır. \n",
        "\n",
        "Ayrıca öğrencinin final notu 50’nin altında ise direkt FF ile kalacaktır."
      ]
    },
    {
      "cell_type": "code",
      "execution_count": null,
      "metadata": {
        "id": "MXTtCxI1_Te8"
      },
      "outputs": [],
      "source": [
        "vize = int(input(\"Vize notunuzu giriniz : \"))\n",
        "\n",
        "final = int(input(\"Final notunuzu giriniz : \"))\n",
        "\n",
        "ortalama = vize * 0.4 + final * 0.6\n",
        "\n",
        "if final >= 50:\n",
        "\n",
        "    if ortalama >= 85:\n",
        "        print(\"AA alarak başarıyla geçtiniz.\")\n",
        "\n",
        "    elif ortalama >= 75:\n",
        "        print(\"BA alarak başarıyla geçtiniz.\")\n",
        "\n",
        "    elif ortalama >= 70:\n",
        "        print(\"BB alarak başarıyla geçtiniz.\")\n",
        "\n",
        "    elif ortalama >= 65:\n",
        "        print(\"CB alarak başarıyla geçtiniz.\")\n",
        "\n",
        "    elif ortalama >= 60:\n",
        "        print(\"CC alarak başarıyla geçtiniz.\")\n",
        "\n",
        "    elif ortalama >= 55:\n",
        "        print(\"DC alarak başarıyla geçtiniz.\")\n",
        "\n",
        "    elif ortalama >= 50:\n",
        "        print(\"DD alarak başarıyla geçtiniz.\")\n",
        "\n",
        "    else:\n",
        "        print(\"FF alarak kaldınız.\")\n",
        "          \n",
        "else: \n",
        "  print(\"Final notunuzu 50'nin altında olduğu için FF ile kaldınız.\")\n"
      ]
    },
    {
      "cell_type": "markdown",
      "metadata": {
        "id": "tAoRYCTC_Te8"
      },
      "source": [
        "# Problem 3\n",
        "İki YetGenli Zirve'de karşılaşıyorlar. Birbirlerini tanımak için sorular soruyorlar. Birbirlerine yaşlarını soruyorlar. Akıllarına bir Python programı yazıp, yaşlarını ve isimlerini giriyorlar. Büyük olanın yaşını ekrana yazdıran programı yazıyorlar. Sende bu iki YetGenli'ye destek olmak ister misin?\n",
        "\n",
        "```\n",
        "Birinci YetGenlinin ismi: Ahmet\n",
        "Birinci YetGenlinin yaşı : 20\n",
        "İkinci YetGenlinin ismi: Mehmet\n",
        "İkinci YetGenlinin yaşı : 25\n",
        "Mehmet'in yaşı daha büyük ve yaşı 25'tir.\n",
        "```"
      ]
    },
    {
      "cell_type": "code",
      "execution_count": null,
      "metadata": {
        "id": "bPjE8W0i_Te8"
      },
      "outputs": [],
      "source": [
        "yetgenli1 = input(\"1.YetGenli'nin adını giriniz : \")\n",
        "\n",
        "yas1 = int(input(\"1.YetGenli'nin yaşını giriniz : \"))\n",
        "\n",
        "yetgenli2 = input(\"2.YetGenli'nin adını giriniz : \")\n",
        "\n",
        "yas2 = int(input(\"2.YetGenli'nin yaşını giriniz : \"))\n",
        "\n",
        "if yas1 > yas2:\n",
        "    print(yetgenli1, \" yaşı daha büyüktür ve yaşı\", yas1,\"dir\")\n",
        "\n",
        "elif yas1 == yas2:\n",
        "    print(\"İki YetGen'li yaşıttır\")\n",
        "\n",
        "else:\n",
        "    print(yetgenli2, \" yaşı daha büyüktür ve yaşı\", yas2,\"dir\")"
      ]
    },
    {
      "cell_type": "markdown",
      "metadata": {
        "id": "zBVv8Tyg_Te9"
      },
      "source": [
        "# Problem 4\n",
        "Pandemi döneminde AVM'lerde ateş ölçümü yapılıyor. AVM'ye giren kişinin ateş ölçümü 37.5 derecenin altında ise girişe izin veriliyor. 37.5 derecenin üstünde ise girişe izin verilmiyor. AVM'ye girişe izin verilip verilmediğini ekrana yazdıran bir program yazın.\n",
        "\n",
        "Program sonunda şöyle bir çıktı elde etmelisiniz:\n",
        "\n",
        "```\n",
        "Ateşiniz 37.5 derece. AVM'ye girebilirsin! Maske takmayı unutma!\n",
        "Ateşiniz 37.6 derece. AVM'ye giremezsin! Hemen evine dön!\n",
        "```"
      ]
    },
    {
      "cell_type": "code",
      "execution_count": 4,
      "metadata": {
        "id": "TSAXs8et_Te9"
      },
      "outputs": [
        {
          "name": "stdout",
          "output_type": "stream",
          "text": [
            "Ateşiniz 32.0 derece. AVM'ye girebilirsiniz. Maske , mesafe ve temizliğe dikkat ediniz.\n"
          ]
        }
      ],
      "source": [
        "ates = float(input(\"Ateşinizi giriniz:\"))\n",
        "\n",
        "if ates >= 37.5:\n",
        "    print(\"Ateşiniz \" + str(ates) + \" derece. AVM'ye giremezsiniz.\")\n",
        "    \n",
        "else:\n",
        "    print(\"Ateşiniz \" + str(ates) + \" derece. AVM'ye girebilirsiniz. Maske , mesafe ve temizliğe dikkat ediniz.\")"
      ]
    },
    {
      "cell_type": "markdown",
      "metadata": {
        "id": "6AEkZrDt_Te9"
      },
      "source": [
        "# Problem 5\n",
        "YetGen bir spor kulübüyle sponsorluk anlaşması yapıyor. Kulüp, sponsorluk anlaşmasına göre her YetGen liderinin beden kitle indeksini hesaplamak istiyor. Spor kulübü, beden kitle indeksini hesaplamak için YetGen Jump Python liderlerinden Berkcan ve Ahmet'i arıyor. Berkcan ve Ahmet, kulübe yardımcı olmak için bir Python programı yazıyorlar. Sende bu iki YetGen liderine destek olmak ister misin?\n",
        "\n",
        "Kullanıcıdan alınan boy ve kilo değerlerine göre beden kitle indeksini hesaplayın ve şu kurallara göre ekrana şu yazıları yazdırın.\n",
        "\n",
        "\n",
        "Beden Kitle İndeksi, kişinin ağırlığının (kg olarak) boyunun karesine (m olarak) bölünmesiyle hesaplanır.\n",
        "\n",
        "\n",
        "```\n",
        " BKİ 18.5'un altındaysa -------> Zayıf\n",
        "\n",
        " BKİ 18.5 ile 25 arasındaysa ------> Normal\n",
        "\n",
        " BKİ 25 ile 30 arasındaysa --------> Fazla Kilolu\n",
        "\n",
        " BKİ 30'un üstündeyse -------------> Obez\n",
        "```\n",
        "\n"
      ]
    },
    {
      "cell_type": "code",
      "execution_count": 3,
      "metadata": {
        "id": "t-XPI_u0_Te-"
      },
      "outputs": [
        {
          "name": "stdout",
          "output_type": "stream",
          "text": [
            "Vücut kitle indeksiniz: 25.39  fazla kilolusunuz.\n"
          ]
        }
      ],
      "source": [
        "kg = float(input(\"Kilonuzu kilogram cinsinden giriniz:\"))\n",
        "\n",
        "m = float(input(\"Boyunuzu metre cinsinden giriniz:\"))\n",
        "\n",
        "vki = kg / m ** 2\n",
        "\n",
        "vki = round(vki, 2)\n",
        "\n",
        "if vki < 18.5:\n",
        "    print(\"Vücut kitle indeksiniz:\", vki, \" zayıfsınız.\")\n",
        "\n",
        "elif vki < 25:\n",
        "    print(\"Vücut kitle indeksiniz:\", vki, \" normal kilolusunuz.\")\n",
        "\n",
        "elif vki < 30:\n",
        "    print(\"Vücut kitle indeksiniz:\", vki, \" fazla kilolusunuz.\")\n",
        "\n",
        "else:\n",
        "    print(\"Vücut kitle indeksiniz:\", vki, \" obezsiniz.\")"
      ]
    },
    {
      "cell_type": "markdown",
      "metadata": {
        "id": "oFsvQyaO_Te-"
      },
      "source": [
        "# Problem 6\n",
        "Kullanıcıdan isim, yaş ve eğitim bilgilerini isteyip ehliyet alabilme  durumunu kontrol ediniz. \n",
        "\n",
        "Ehliyet alma koşulu en az 18 yaşında ve eğitim durumu lise ya da üniversite olmalıdır. "
      ]
    },
    {
      "cell_type": "code",
      "execution_count": 1,
      "metadata": {
        "id": "Tu2mcgco_Te-"
      },
      "outputs": [
        {
          "name": "stdout",
          "output_type": "stream",
          "text": [
            "aysse ehliyet alamazsın. Çünkü yaşınız eğitim durumunuz yetersiz.\n"
          ]
        }
      ],
      "source": [
        "isim = input('İsminiz: ')\n",
        "\n",
        "yas = int(input('Yaşınız: '))\n",
        "\n",
        "egitim = input('Eğitim Durumunuz: ')\n",
        "\n",
        "if yas > 18:\n",
        "  \n",
        "  if egitim == \"Lise\" or egitim == \"Üniversite\":\n",
        "    print(f'{isim} ehliyet alabilirsin.')\n",
        "  \n",
        "  else:\n",
        "    print(f'{isim} ehliyet alamazsın. Çünkü yaşınız eğitim durumunuz yetersiz.')\n",
        "\n",
        "else:\n",
        "  print(f\"{isim} ehliyet alamazsınız. Yaşınız 18'den küçük\")"
      ]
    },
    {
      "cell_type": "markdown",
      "metadata": {
        "id": "eUkxVSAE_Te_"
      },
      "source": [
        "# Problem 7\n",
        "Bir yılın artık yıl olup olmadığını kontrol etmek için bir program yazın. \n",
        "Artık yıl kuralı:\n",
        "\n",
        "a) Eğer yılın son iki basamağı (00) ile bitmiyor ve yalnızca 4'e tam bölünüyorsa artık yıldır. Ya da, \n",
        "\n",
        "b) Eğer yıl 400'e tam bölünüyorsa artık yıldır.\n",
        "\n",
        "**Örneğin**\n",
        "```\n",
        "2017 artık yıl değildir.\n",
        "1900 artık yıl değildir\n",
        "2012 artık yıldır.\n",
        "2000 artık yıldır.\n",
        "```"
      ]
    },
    {
      "cell_type": "code",
      "execution_count": 2,
      "metadata": {
        "id": "4uWh8qUL_Te_"
      },
      "outputs": [
        {
          "name": "stdout",
          "output_type": "stream",
          "text": [
            "Artık yıl değil\n"
          ]
        }
      ],
      "source": [
        "yil = int(input(\"Bir yıl giriniz:\"))\n",
        "\n",
        "if yil % 4 == 0:\n",
        "\n",
        "  if yil % 100 == 0:\n",
        "    \n",
        "    if yil % 400 == 0:\n",
        "      print(\"Artık yıldır.\")\n",
        "    \n",
        "    else:\n",
        "      print(\"Artık yıl değildir.\")\n",
        "  \n",
        "  else: \n",
        "    print(\"Artık yıl\")\n",
        "\n",
        "else:\n",
        "  print(\"Artık yıl değil\")"
      ]
    }
  ],
  "metadata": {
    "colab": {
      "provenance": []
    },
    "kernelspec": {
      "display_name": "Python 3",
      "language": "python",
      "name": "python3"
    },
    "language_info": {
      "codemirror_mode": {
        "name": "ipython",
        "version": 3
      },
      "file_extension": ".py",
      "mimetype": "text/x-python",
      "name": "python",
      "nbconvert_exporter": "python",
      "pygments_lexer": "ipython3",
      "version": "3.13.2"
    },
    "orig_nbformat": 4
  },
  "nbformat": 4,
  "nbformat_minor": 0
}
