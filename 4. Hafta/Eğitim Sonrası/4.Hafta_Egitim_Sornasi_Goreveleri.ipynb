{
 "cells": [
  {
   "cell_type": "markdown",
   "metadata": {},
   "source": [
    "# Problem 1\n",
    "`ogrenciler` adında bir sözlük oluşturunuz. Kullanıcıdan döngü yardımıyla 3 öğrenci için veri girmesini isteyerek öğrencilerin sırasıyla okul numarası, isim, soy isim, telefon numarası ve doğum tarihi bilgilerini alınız. Aldığınız öğrenci bilgilerini yine aynı döngü yardımıyla `ogrenciler` adındaki sözlükte saklayınız. Daha sonra öğrenci bilgilerinin bulunduğu sözlük yapısını ekrana bastırınız.\n",
    "\n"
   ]
  },
  {
   "cell_type": "code",
   "execution_count": 1,
   "metadata": {},
   "outputs": [
    {
     "name": "stdout",
     "output_type": "stream",
     "text": [
      "---------------------------------------------------\n",
      "{1: {'No': '1', 'İsim': 'a', 'Soy İsim': 'c', 'Telefon': '24', 'Doğum Tarihi': '34'}}\n",
      "---------------------------------------------------\n",
      "{1: {'No': '1', 'İsim': 'a', 'Soy İsim': 'c', 'Telefon': '24', 'Doğum Tarihi': '34'}, 2: {'No': '234', 'İsim': '234', 'Soy İsim': '34', 'Telefon': '34', 'Doğum Tarihi': '234'}}\n",
      "---------------------------------------------------\n",
      "{1: {'No': '1', 'İsim': 'a', 'Soy İsim': 'c', 'Telefon': '24', 'Doğum Tarihi': '34'}, 2: {'No': '234', 'İsim': '234', 'Soy İsim': '34', 'Telefon': '34', 'Doğum Tarihi': '234'}, 3: {'No': '34324', 'İsim': '34', 'Soy İsim': '234', 'Telefon': '34', 'Doğum Tarihi': '234'}}\n"
     ]
    }
   ],
   "source": [
    "ogrenciler = {}\n",
    "for i in range(1,4):\n",
    "  okulNo = input(\"Okul numaranızı giriniz : \")\n",
    "  isim = input(\"İsminizi giriniz : \")\n",
    "  soyIsim = input(\"Soyisminizi giriniz : \")\n",
    "  telefon = input(\"Telefon numaranızı giriniz\")\n",
    "  dogumTarihi = input(\"Doğum tarihinizi giriniz : \")\n",
    "  print(\"---------------------------------------------------\")\n",
    "  ogrenciler[i] = {\n",
    "      \"No\" : okulNo,\n",
    "      \"İsim\" : isim,\n",
    "      \"Soy İsim\": soyIsim,\n",
    "      \"Telefon\" : telefon,\n",
    "      \"Doğum Tarihi\" : dogumTarihi\n",
    "  }\n",
    "  print(ogrenciler)"
   ]
  },
  {
   "cell_type": "markdown",
   "metadata": {},
   "source": [
    "# Problem 2\n",
    "\n",
    "### a - Biraz ısınarak başlayalım!\n",
    "\n",
    "```\n",
    "numbers = [5,10,10,15,15,15,20,20,20,20]\n",
    "```\n",
    "\n",
    "Yukarıda `numbers` adında 10 elemanlı bir liste verilmiştir. Bu listenin her elemanını kontrol eden ve tekrar eden elemanları bir kez olacak şekilde başka bir listeye kopyalayan bir program yazınız. Son olarak oluşturduğunuz listeyi ekrana bastırınız.\n",
    "\n",
    "\n",
    "\n",
    "\n",
    "```\n",
    ">Output\n",
    "[5, 10, 15, 20]\n",
    "```\n"
   ]
  },
  {
   "cell_type": "code",
   "execution_count": null,
   "metadata": {},
   "outputs": [],
   "source": [
    "numbers = [5,10,10,15,15,15,20,20,20,20]\n",
    "unique = []\n",
    "for number in numbers:\n",
    "  if number in unique:\n",
    "    continue\n",
    "  else:\n",
    "    unique.append(number)\n",
    "print(unique)"
   ]
  },
  {
   "cell_type": "markdown",
   "metadata": {},
   "source": [
    "### 🌶️ b) Hadi işi biraz daha zorlaştıralım! \n",
    "\n",
    "\n",
    "Şimdiyse senden `numbers` isimli listedeki tekrar eden elemanları `repeatNumbers` adındaki listeye; tekrar etmeyen elemanları `uniqueNumbers`adındaki listeye kopyalayan yazmanı ve listeleri ekrana bastırmanı bekliyoruz\n",
    "\n",
    "```\n",
    ">Output\n",
    "Tekrar Eden Elemanlar: [10, 10, 15, 15, 15, 20, 20, 20, 20]\n",
    "Tekrar Etmeyen Elemanlar: [5]\n",
    "```"
   ]
  },
  {
   "cell_type": "code",
   "execution_count": null,
   "metadata": {},
   "outputs": [],
   "source": [
    "numbers = [5,10,10,15,15,15,20,20,20,20]\n",
    "unique = []\n",
    "repeat = []\n",
    "for number in numbers:\n",
    "  if numbers.count(number) == 1:\n",
    "      unique.append(number)\n",
    "  else:\n",
    "    repeat.append(number)\n",
    "print(\"Tekrar Eden Elemanlar : \", repeat)\n",
    "print(\"Tekrar Etmeyen Elemanlar : \", unique)"
   ]
  },
  {
   "cell_type": "markdown",
   "metadata": {},
   "source": [
    "# Problem 3\n",
    "sn1 = {1,2,3,4,5}\n",
    "\n",
    "sn2 = {4,5,6,7,8}\n",
    "\n",
    " Verilen 2 adet küme için kesişimlerini, farklarını ve birleşimlerini bulunuz. "
   ]
  },
  {
   "cell_type": "code",
   "execution_count": null,
   "metadata": {},
   "outputs": [],
   "source": [
    "sn1 = {1,2,3,4,5}\n",
    "sn2 = {4,5,6,7,8}\n",
    "kesisim = sn1.intersection(sn2)\n",
    "print(\"Kesişimleri\", kesisim)"
   ]
  },
  {
   "cell_type": "code",
   "execution_count": null,
   "metadata": {},
   "outputs": [],
   "source": [
    "sn1 = {1,2,3,4,5}\n",
    "sn2 = {4,5,6,7,8}\n",
    "fark1 = sn1.difference_update(sn2)\n",
    "print(sn1)"
   ]
  },
  {
   "cell_type": "code",
   "execution_count": null,
   "metadata": {},
   "outputs": [],
   "source": [
    "sn1 = {1,2,3,4,5}\n",
    "sn2 = {4,5,6,7,8}\n",
    "fark2 = sn2.difference_update(sn1)\n",
    "print(sn2)"
   ]
  },
  {
   "cell_type": "code",
   "execution_count": null,
   "metadata": {},
   "outputs": [],
   "source": [
    "sn1 = {1,2,3,4,5}\n",
    "sn2 = {4,5,6,7,8}\n",
    "birlesim = sn1.update(sn2)\n",
    "print(sn1)"
   ]
  },
  {
   "cell_type": "markdown",
   "metadata": {},
   "source": [
    "# Problem 4\n",
    "\n",
    "Buradaki işlemlerimizin tamamı stringler içindir. Aşağıda verilecek olan metodlar için kendinizin örnek yaratması gerekmektedir. \n",
    "\n",
    "Örneğin `upper` için `string` değişkeni oluştururken` k = \"BAC\"` şeklinde oluşturmayınız. Bunun yerine k değişkenini `k = \"bac`\" şeklinde oluşturmanız `upper` metodundaki değişimi görebilmeniz için daha iyi olacaktır.\n",
    "\n",
    "Bütün metodlardaki değişimin gözle görülür şekilde değişimi beklenmektedir.\n",
    "\n",
    "\n",
    "1- capitalize(), lower(), upper(), swapcase(), title(), replace()\n",
    "\n",
    "2- endswith(), startswith(), find(), index(), count()\n",
    "\n",
    "3- split(), strip(), join(), islower(), isalpha(), isdigit()\n",
    "\n",
    "\n",
    "Yukarıdaki `string` metodlarındaki değişimleri görebildiğimiz bir program yazınız.\n"
   ]
  },
  {
   "cell_type": "code",
   "execution_count": null,
   "metadata": {},
   "outputs": [],
   "source": [
    "k = \"YetGen Core ile Python öğreniyorum\"\n",
    "print(k)\n",
    "\n",
    "print(k.capitalize())\n",
    "print(k.lower())\n",
    "print(k.upper())\n",
    "print(k.swapcase())\n",
    "print(k.title())\n",
    "print(k.replace(\"Python\", \"21. Yüzyıl Yetkinliklerini\"))"
   ]
  },
  {
   "cell_type": "code",
   "execution_count": null,
   "metadata": {},
   "outputs": [],
   "source": [
    "print(k.endswith(\"öğreniyorum\"))\n",
    "print(k.startswith(\"Üniversite\"))\n",
    "print(k.find(\"Python\"))\n",
    "print(k.count(\"e\"))"
   ]
  },
  {
   "cell_type": "code",
   "execution_count": null,
   "metadata": {},
   "outputs": [],
   "source": [
    "print(k.split(\" \"))\n",
    "\n",
    "k = \"            YetGen Core ile Python Öğreniyorum            \"\n",
    "k = k.strip()\n",
    "print(k)\n",
    "\n",
    "l = (\"YetGen\", \"Core\", \"ile\", \"Python\", \"Öğreniyorum\")\n",
    "print(\"#\".join(l))\n",
    "\n",
    "print(k.islower())\n",
    "print(k.isalpha())\n",
    "print(k.isdigit())\n",
    "print(k.lower().islower())"
   ]
  }
 ],
 "metadata": {
  "kernelspec": {
   "display_name": "Python 3",
   "language": "python",
   "name": "python3"
  },
  "language_info": {
   "codemirror_mode": {
    "name": "ipython",
    "version": 3
   },
   "file_extension": ".py",
   "mimetype": "text/x-python",
   "name": "python",
   "nbconvert_exporter": "python",
   "pygments_lexer": "ipython3",
   "version": "3.13.2"
  },
  "orig_nbformat": 4
 },
 "nbformat": 4,
 "nbformat_minor": 2
}
