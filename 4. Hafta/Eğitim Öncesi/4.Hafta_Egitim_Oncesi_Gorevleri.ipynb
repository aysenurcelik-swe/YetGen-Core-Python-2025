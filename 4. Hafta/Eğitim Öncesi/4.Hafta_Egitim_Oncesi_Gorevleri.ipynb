{
 "cells": [
  {
   "cell_type": "markdown",
   "metadata": {
    "id": "-My6RWLrhXIq"
   },
   "source": [
    "# Problem 1\n",
    "Sözlükleri kullanarak bir telefon rehberi yazın. Bu rehberde kullanıcıya kimin telefonunu görüntülemek istediğini sorun ve kullanıcının girdiği isme göre o kişinin telefon numarasını yazdırın. Proje sonunda elde edeceğiniz çıktı  şuna benzer olmalı:\n",
    "\n",
    "\n",
    "Lütfen numarasını öğrenmek istediğiniz kişinin adını girin: Ahmet\n",
    "\n",
    "Ahmet isimli kişinin numarası şu şekildedir: 0532 678 13 19"
   ]
  },
  {
   "cell_type": "code",
   "execution_count": null,
   "metadata": {
    "id": "LHIQEhchhXIu"
   },
   "outputs": [],
   "source": [
    "telefonRehberi ={\n",
    "    \"Berkcan\" : \"0541 461 09 36\",\n",
    "    \"Ahmet\": \"0532 678 13 19\",\n",
    "    \"Enes\": \"0530 669 05 51\"\n",
    "}\n",
    "kisi = input(\"Lütfen numarasını öğrenmek istediğiniz kişinin adını girin:\")\n",
    "print(kisi +\" isimli kişinin numarası şu şekildedir: \" + telefonRehberi[kisi])"
   ]
  },
  {
   "cell_type": "markdown",
   "metadata": {
    "id": "rlgfjEi7hXIv"
   },
   "source": [
    "# Problem 2\n",
    "Sözlükleri kullanarak bir şirket çalışanları indeksi oluşturun. Bu isim indeksinde kişilerin isimleri key, kişilerin  memleket, yaş ve görev bilgileri value olmalıdır. Burada kullanacağımız value değerleri liste olmalıdır.\n",
    "\n",
    "\n",
    "Daha sonra bir isim sorgulama ekranı gibi kullanıcıya kimin bilgilerini görüntülemek istediğini \n",
    "sorun ve sorgulanan kişinin ekranda gösterilmesini sağlayın. Proje sonunda elde edeceğiniz çıktı şu şekilde olmalı:\n",
    "\n",
    "\n",
    "Lütfen bilgilerini görüntülemek istediğiniz çalışanın ismini girin: Mehmet Yağız\n",
    "\n",
    "Mehmet Yağız= Memleket: Adana Yaş: 40 Görev: Direktör"
   ]
  },
  {
   "cell_type": "code",
   "execution_count": null,
   "metadata": {
    "id": "O09zrrs0hXIv"
   },
   "outputs": [],
   "source": [
    "sirketCalisani = {\n",
    "    \"Ahmet\" : [\"Ankara\",\"23\",\"Yazılımcı\"],\n",
    "    \"Mehmet\" : [\"Kayseri\",\"22\",\"Tasarımcı\"]\n",
    "}\n",
    "kisi = input(\"Lütfen bilgilerini görüntülemek istediğiniz çalışanın ismini girin:\")\n",
    "print(kisi + \" = Memleket:\" + sirketCalisani[kisi][0] + \" Yaş:\" + sirketCalisani[kisi][1] + \" Görev:\" + sirketCalisani[kisi][2])"
   ]
  },
  {
   "cell_type": "markdown",
   "metadata": {
    "id": "G67ztXG-hXIw"
   },
   "source": [
    "# Problem 3\n",
    "\n",
    "3 öğrenciden oluşan bir öğrenci not sözlüğü oluşturun. Bu sözlükte öğrencilerin notları value olarak bir listede toplansın.\n",
    "\n",
    "Kullanıcıya hangi öğrencinin notlarını görmek istediğini sorun. Öğrencinin notu görüntülendiğinde program sonunda şöyle bir çıktı elde etmelisiniz:\n",
    "\n",
    "```\n",
    "Lütfen notlarını görmek istediğiniz öğrencinin adını girin: Mehmet\n",
    "\n",
    "Mehmet isimli öğrencinin      1.Sınav Notu:72\n",
    "                              2.Sınav Notu:66\n",
    "                              3.Sınav Notu:48\n",
    "Not Ortalaması: 62.0\n"
   ]
  },
  {
   "cell_type": "code",
   "execution_count": 6,
   "metadata": {
    "id": "TXQ_fuCHhXIw"
   },
   "outputs": [
    {
     "name": "stdout",
     "output_type": "stream",
     "text": [
      "Ahmet isimli öğrencinin 1. Sınav Notu: 72 2. Sınav Notu: 66 3. Sınav Notu: 48 Ortalama: 62.0\n"
     ]
    }
   ],
   "source": [
    "ogrenciler = {\n",
    "    \"Ahmet\": [72, 66, 48],\n",
    "    \"Enes\": [88, 96, 100],\n",
    "    \"Berkcan\": [70, 50, 40],\n",
    "    \"Begüm\": [92, 33, 78],\n",
    "    \"Mertcan\": [92, 98, 55]\n",
    "}\n",
    "\n",
    "ogrenci = input(\"Lütfen notlarını görmek istediğiniz öğrencinin adını girin: \")\n",
    "\n",
    "if ogrenci in ogrenciler:\n",
    "    ortalama = sum(ogrenciler[ogrenci]) / len(ogrenciler[ogrenci])\n",
    "    print(\n",
    "        ogrenci + \" isimli öğrencinin 1. Sınav Notu: \" + str(ogrenciler[ogrenci][0]) +\n",
    "        \" 2. Sınav Notu: \" + str(ogrenciler[ogrenci][1]) +\n",
    "        \" 3. Sınav Notu: \" + str(ogrenciler[ogrenci][2]) +\n",
    "        \" Ortalama: \" + str(ortalama)\n",
    "    )\n",
    "else:\n",
    "    print(\"Girilen öğrenci ismi bulunamadı.\")\n"
   ]
  },
  {
   "cell_type": "markdown",
   "metadata": {
    "id": "oel6A5WFhXIw"
   },
   "source": [
    "# Problem 4"
   ]
  },
  {
   "cell_type": "code",
   "execution_count": null,
   "metadata": {
    "id": "jVRdspCrhXIx"
   },
   "outputs": [],
   "source": [
    "# Acil durumlarda çözüm için aşağıdaki kodu kullanabilirsiniz.\n",
    "\n",
    "# YetNot:  \"Bmw, Mercedes, Opel, Mazda\" elemanlarına sahip bir liste oluşturunuz.\n",
    "arabalar = ['Bmw','Mercedes','Opel','Mazda']\n",
    "# YetNot:  Liste Kaç elemanlıdır ?\n",
    "print(len(arabalar))\n",
    "# YetNot:  Listenin ilk ve son elemanı nedir ?\n",
    "print(arabalar[0])\n",
    "print(arabalar[-1])\n",
    "# YetNot: Mazda değerini Toyota ile değiştirin.\n",
    "arabalar[-1]= 'Toyota'\n",
    "print(arabalar)\n",
    "# YetNot: Listenin -2 indeksindeki değer nedir ?\n",
    "print(arabalar[-2])\n",
    "# YetNot:  Listenin ilk 3 elemanını alın.\n",
    "print(arabalar[:3])\n",
    "# YetNot:  Listenin son 2 elemanı yerine \"Toyota\" ve \"Renault\" değerlerini ekleyin.\n",
    "arabalar[-2:] = [\"Toyota\",\"Renault\"]\n",
    "print(arabalar)\n",
    "# YetNot:  Listenin üzerine \"Audi\" ve \"Nissan\" değerlerini ekleyin.\n",
    "ekle = arabalar + [\"Audi\",\"Nissan\"]\n",
    "print(ekle)\n",
    "# YetNot: Listenin son elemanını silin.\n",
    "del arabalar[-1]\n",
    "print(arabalar)\n",
    "# YetNot: Liste elemanlarını tersten yazdırınız.\n",
    "print(arabalar[::-1])\n",
    "\n",
    "# YetNot: Liste elemanlarını ekrana yazdırınız.\n",
    "  \n",
    "names = ['Ali','Yağmur','Hakan','Deniz']\n",
    "years = [1998, 2000, 1998, 1987]\n",
    "print(names)\n",
    "print(years)\n",
    "\n",
    "# YetNot:  \"Cenk\" ismini listenin sonuna ekleyiniz.\n",
    "names.append('Cenk')\n",
    "print(names)\n",
    "\n",
    "# YetNot:  \"Sena\" değerini listenin başına ekleyiniz.\n",
    "names.insert(0,\"Sena\")\n",
    "print(names)\n",
    "# YetNot:  \"Deniz\" ismini listeden siliniz.\n",
    "names.pop(-2)\n",
    "print(names)\n",
    "\n",
    "# YetNot:  \"Ali\" listenin bir elemanı mıdır ?\n",
    "print(names.index(\"Ali\"))\n",
    "\n",
    "# YetNot:  Liste elemanlarını ters çevirin.\n",
    "names.reverse()\n",
    "print(names)\n",
    "# YetNot:  Liste elemanlarını alfabetik olarak sıralayınız.\n",
    "names.sort()\n",
    "print(names)\n",
    "# YetNot:  years listesini rakamsal büyüklüğe göre sıralayınız.\n",
    "years.sort()\n",
    "print(years)\n",
    "# YetNot:  str = \"Chevrolet,Dacia\" karakter dizisini listeye çeviriniz.\n",
    "str = \"Chevrolet,Dacia\"\n",
    "print(str.split(\",\"))\n",
    "\n",
    "# YetNot: years dizisinde kaç tane 1998 değeri vardır ?\n",
    "print(years.count(1998))\n",
    "\n",
    "# YetNot: years dizisinin tüm elemanlarını siliniz.\n",
    "years.clear()\n",
    "print(years)"
   ]
  }
 ],
 "metadata": {
  "colab": {
   "provenance": []
  },
  "kernelspec": {
   "display_name": "Python 3",
   "language": "python",
   "name": "python3"
  },
  "language_info": {
   "codemirror_mode": {
    "name": "ipython",
    "version": 3
   },
   "file_extension": ".py",
   "mimetype": "text/x-python",
   "name": "python",
   "nbconvert_exporter": "python",
   "pygments_lexer": "ipython3",
   "version": "3.13.2"
  },
  "orig_nbformat": 4
 },
 "nbformat": 4,
 "nbformat_minor": 0
}
